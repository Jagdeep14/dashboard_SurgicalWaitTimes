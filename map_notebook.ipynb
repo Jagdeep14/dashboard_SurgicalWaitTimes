{
 "cells": [
  {
   "cell_type": "code",
   "execution_count": 1,
   "id": "115a0af0",
   "metadata": {},
   "outputs": [
    {
     "data": {
      "text/html": [
       "\n",
       "<div id=\"altair-viz-70dc92b0b3424b86b8c611bb8c62dfd9\"></div>\n",
       "<script type=\"text/javascript\">\n",
       "  var VEGA_DEBUG = (typeof VEGA_DEBUG == \"undefined\") ? {} : VEGA_DEBUG;\n",
       "  (function(spec, embedOpt){\n",
       "    let outputDiv = document.currentScript.previousElementSibling;\n",
       "    if (outputDiv.id !== \"altair-viz-70dc92b0b3424b86b8c611bb8c62dfd9\") {\n",
       "      outputDiv = document.getElementById(\"altair-viz-70dc92b0b3424b86b8c611bb8c62dfd9\");\n",
       "    }\n",
       "    const paths = {\n",
       "      \"vega\": \"https://cdn.jsdelivr.net/npm//vega@5?noext\",\n",
       "      \"vega-lib\": \"https://cdn.jsdelivr.net/npm//vega-lib?noext\",\n",
       "      \"vega-lite\": \"https://cdn.jsdelivr.net/npm//vega-lite@4.17.0?noext\",\n",
       "      \"vega-embed\": \"https://cdn.jsdelivr.net/npm//vega-embed@6?noext\",\n",
       "    };\n",
       "\n",
       "    function maybeLoadScript(lib, version) {\n",
       "      var key = `${lib.replace(\"-\", \"\")}_version`;\n",
       "      return (VEGA_DEBUG[key] == version) ?\n",
       "        Promise.resolve(paths[lib]) :\n",
       "        new Promise(function(resolve, reject) {\n",
       "          var s = document.createElement('script');\n",
       "          document.getElementsByTagName(\"head\")[0].appendChild(s);\n",
       "          s.async = true;\n",
       "          s.onload = () => {\n",
       "            VEGA_DEBUG[key] = version;\n",
       "            return resolve(paths[lib]);\n",
       "          };\n",
       "          s.onerror = () => reject(`Error loading script: ${paths[lib]}`);\n",
       "          s.src = paths[lib];\n",
       "        });\n",
       "    }\n",
       "\n",
       "    function showError(err) {\n",
       "      outputDiv.innerHTML = `<div class=\"error\" style=\"color:red;\">${err}</div>`;\n",
       "      throw err;\n",
       "    }\n",
       "\n",
       "    function displayChart(vegaEmbed) {\n",
       "      vegaEmbed(outputDiv, spec, embedOpt)\n",
       "        .catch(err => showError(`Javascript Error: ${err.message}<br>This usually means there's a typo in your chart specification. See the javascript console for the full traceback.`));\n",
       "    }\n",
       "\n",
       "    if(typeof define === \"function\" && define.amd) {\n",
       "      requirejs.config({paths});\n",
       "      require([\"vega-embed\"], displayChart, err => showError(`Error loading script: ${err.message}`));\n",
       "    } else {\n",
       "      maybeLoadScript(\"vega\", \"5\")\n",
       "        .then(() => maybeLoadScript(\"vega-lite\", \"4.17.0\"))\n",
       "        .then(() => maybeLoadScript(\"vega-embed\", \"6\"))\n",
       "        .catch(showError)\n",
       "        .then(() => displayChart(vegaEmbed));\n",
       "    }\n",
       "  })({\"config\": {\"view\": {\"continuousWidth\": 400, \"continuousHeight\": 300}}, \"data\": {\"url\": \"data\\\\HA_2018.geojson\", \"format\": {\"property\": \"features\", \"type\": \"json\"}}, \"mark\": {\"type\": \"geoshape\", \"stroke\": \"black\"}, \"encoding\": {\"color\": {\"field\": \"datum['properties']['HA_Name']\"}, \"opacity\": {\"condition\": {\"value\": 1, \"test\": \"(datum['properties']['HA_Name'] === 'Interior')\"}, \"value\": 0.3}, \"tooltip\": {\"field\": \"datum['properties']['HA_Name']\"}}, \"projection\": {\"reflectY\": true, \"type\": \"identity\"}, \"$schema\": \"https://vega.github.io/schema/vega-lite/v4.17.0.json\"}, {\"mode\": \"vega-lite\"});\n",
       "</script>"
      ],
      "text/plain": [
       "alt.Chart(...)"
      ]
     },
     "execution_count": 1,
     "metadata": {},
     "output_type": "execute_result"
    }
   ],
   "source": [
    "import json\n",
    "import pandas as pd\n",
    "import altair as alt\n",
    "\n",
    "map_data = alt.Data(url='data\\HA_2018.geojson', format=alt.DataFormat(property='features',type='json'))\n",
    "\n",
    "# chart object\n",
    "x = \"Interior\"\n",
    "\n",
    "alt.Chart(map_data).mark_geoshape(stroke = \"black\"\n",
    ").encode(\n",
    "    color=alt.Color(alt.datum['properties']['HA_Name']),\n",
    "    opacity=alt.condition(alt.datum['properties']['HA_Name'] == x, alt.value(1), alt.value(0.3)),\n",
    "    tooltip = alt.Tooltip(alt.datum['properties']['HA_Name'])\n",
    ").project(\n",
    "    type='identity', reflectY=True\n",
    ")"
   ]
  },
  {
   "cell_type": "code",
   "execution_count": 12,
   "id": "e2cea93e",
   "metadata": {},
   "outputs": [
    {
     "data": {
      "text/plain": [
       "'Interior'"
      ]
     },
     "execution_count": 12,
     "metadata": {},
     "output_type": "execute_result"
    }
   ],
   "source": [
    "temp = json.load(open('HA_2018.geojson', 'r'))\n",
    "temp['features'][0]['properties']['HA_Name']\n",
    "#temp['features']\n"
   ]
  },
  {
   "cell_type": "code",
   "execution_count": 5,
   "id": "62c87501",
   "metadata": {},
   "outputs": [],
   "source": [
    "import json\n",
    "import pandas as pd\n",
    "import altair as alt\n",
    "\n",
    "map_data = alt.Data(url='Data\\HA_2018.geojson', format=alt.DataFormat(property='features',type='json'))\n",
    "\n",
    "\n",
    "def plot_map(authority = 'Interior'):\n",
    "    if authority == \"Provincial\":\n",
    "        plot1 = alt.Chart(map_data).mark_geoshape(stroke = \"black\", opacity = 0.5, fill = \"blue\"\n",
    "        ).encode(\n",
    "            tooltip = \"properties.HA_Name:N\"\n",
    "        ).project(\n",
    "            type='identity', reflectY=True\n",
    "        )\n",
    "        return plot1\n",
    "    else:\n",
    "        plot2 = alt.Chart(map_data).mark_geoshape(stroke = \"black\"\n",
    "        ).encode(\n",
    "            color= alt.Color(\"properties.HA_Name:N\", legend = None),\n",
    "            opacity=alt.condition(alt.datum['properties']['HA_Name'] == authority, alt.value(1), alt.value(0.3)),\n",
    "            tooltip = \"properties.HA_Name:N\"\n",
    "        ).project(\n",
    "            type='identity', reflectY=True\n",
    "        )\n",
    "        return plot2"
   ]
  },
  {
   "cell_type": "code",
   "execution_count": 6,
   "id": "f7223ee3-c719-42f9-b074-dd5661176f3f",
   "metadata": {},
   "outputs": [
    {
     "data": {
      "text/html": [
       "\n",
       "<div id=\"altair-viz-bc5d966b7ff3494799059085fab5a0bb\"></div>\n",
       "<script type=\"text/javascript\">\n",
       "  var VEGA_DEBUG = (typeof VEGA_DEBUG == \"undefined\") ? {} : VEGA_DEBUG;\n",
       "  (function(spec, embedOpt){\n",
       "    let outputDiv = document.currentScript.previousElementSibling;\n",
       "    if (outputDiv.id !== \"altair-viz-bc5d966b7ff3494799059085fab5a0bb\") {\n",
       "      outputDiv = document.getElementById(\"altair-viz-bc5d966b7ff3494799059085fab5a0bb\");\n",
       "    }\n",
       "    const paths = {\n",
       "      \"vega\": \"https://cdn.jsdelivr.net/npm//vega@5?noext\",\n",
       "      \"vega-lib\": \"https://cdn.jsdelivr.net/npm//vega-lib?noext\",\n",
       "      \"vega-lite\": \"https://cdn.jsdelivr.net/npm//vega-lite@4.17.0?noext\",\n",
       "      \"vega-embed\": \"https://cdn.jsdelivr.net/npm//vega-embed@6?noext\",\n",
       "    };\n",
       "\n",
       "    function maybeLoadScript(lib, version) {\n",
       "      var key = `${lib.replace(\"-\", \"\")}_version`;\n",
       "      return (VEGA_DEBUG[key] == version) ?\n",
       "        Promise.resolve(paths[lib]) :\n",
       "        new Promise(function(resolve, reject) {\n",
       "          var s = document.createElement('script');\n",
       "          document.getElementsByTagName(\"head\")[0].appendChild(s);\n",
       "          s.async = true;\n",
       "          s.onload = () => {\n",
       "            VEGA_DEBUG[key] = version;\n",
       "            return resolve(paths[lib]);\n",
       "          };\n",
       "          s.onerror = () => reject(`Error loading script: ${paths[lib]}`);\n",
       "          s.src = paths[lib];\n",
       "        });\n",
       "    }\n",
       "\n",
       "    function showError(err) {\n",
       "      outputDiv.innerHTML = `<div class=\"error\" style=\"color:red;\">${err}</div>`;\n",
       "      throw err;\n",
       "    }\n",
       "\n",
       "    function displayChart(vegaEmbed) {\n",
       "      vegaEmbed(outputDiv, spec, embedOpt)\n",
       "        .catch(err => showError(`Javascript Error: ${err.message}<br>This usually means there's a typo in your chart specification. See the javascript console for the full traceback.`));\n",
       "    }\n",
       "\n",
       "    if(typeof define === \"function\" && define.amd) {\n",
       "      requirejs.config({paths});\n",
       "      require([\"vega-embed\"], displayChart, err => showError(`Error loading script: ${err.message}`));\n",
       "    } else {\n",
       "      maybeLoadScript(\"vega\", \"5\")\n",
       "        .then(() => maybeLoadScript(\"vega-lite\", \"4.17.0\"))\n",
       "        .then(() => maybeLoadScript(\"vega-embed\", \"6\"))\n",
       "        .catch(showError)\n",
       "        .then(() => displayChart(vegaEmbed));\n",
       "    }\n",
       "  })({\"config\": {\"view\": {\"continuousWidth\": 400, \"continuousHeight\": 300}}, \"data\": {\"url\": \"Data\\\\HA_2018.geojson\", \"format\": {\"property\": \"features\", \"type\": \"json\"}}, \"mark\": {\"type\": \"geoshape\", \"stroke\": \"black\"}, \"encoding\": {\"color\": {\"field\": \"properties.HA_Name\", \"legend\": null, \"type\": \"nominal\"}, \"opacity\": {\"condition\": {\"value\": 1, \"test\": \"(datum['properties']['HA_Name'] === 'Interior')\"}, \"value\": 0.3}, \"tooltip\": {\"field\": \"properties.HA_Name\", \"type\": \"nominal\"}}, \"projection\": {\"reflectY\": true, \"type\": \"identity\"}, \"$schema\": \"https://vega.github.io/schema/vega-lite/v4.17.0.json\"}, {\"mode\": \"vega-lite\"});\n",
       "</script>"
      ],
      "text/plain": [
       "alt.Chart(...)"
      ]
     },
     "execution_count": 6,
     "metadata": {},
     "output_type": "execute_result"
    }
   ],
   "source": [
    "plot_map(authority = 'Interior')"
   ]
  },
  {
   "cell_type": "code",
   "execution_count": 1,
   "id": "9acb1f1b-cabb-4400-a0d2-b66e44ee475e",
   "metadata": {},
   "outputs": [
    {
     "data": {
      "text/html": [
       "\n",
       "<div id=\"altair-viz-2b206faf1b2e481297cd97bbb4c41eef\"></div>\n",
       "<script type=\"text/javascript\">\n",
       "  var VEGA_DEBUG = (typeof VEGA_DEBUG == \"undefined\") ? {} : VEGA_DEBUG;\n",
       "  (function(spec, embedOpt){\n",
       "    let outputDiv = document.currentScript.previousElementSibling;\n",
       "    if (outputDiv.id !== \"altair-viz-2b206faf1b2e481297cd97bbb4c41eef\") {\n",
       "      outputDiv = document.getElementById(\"altair-viz-2b206faf1b2e481297cd97bbb4c41eef\");\n",
       "    }\n",
       "    const paths = {\n",
       "      \"vega\": \"https://cdn.jsdelivr.net/npm//vega@5?noext\",\n",
       "      \"vega-lib\": \"https://cdn.jsdelivr.net/npm//vega-lib?noext\",\n",
       "      \"vega-lite\": \"https://cdn.jsdelivr.net/npm//vega-lite@4.17.0?noext\",\n",
       "      \"vega-embed\": \"https://cdn.jsdelivr.net/npm//vega-embed@6?noext\",\n",
       "    };\n",
       "\n",
       "    function maybeLoadScript(lib, version) {\n",
       "      var key = `${lib.replace(\"-\", \"\")}_version`;\n",
       "      return (VEGA_DEBUG[key] == version) ?\n",
       "        Promise.resolve(paths[lib]) :\n",
       "        new Promise(function(resolve, reject) {\n",
       "          var s = document.createElement('script');\n",
       "          document.getElementsByTagName(\"head\")[0].appendChild(s);\n",
       "          s.async = true;\n",
       "          s.onload = () => {\n",
       "            VEGA_DEBUG[key] = version;\n",
       "            return resolve(paths[lib]);\n",
       "          };\n",
       "          s.onerror = () => reject(`Error loading script: ${paths[lib]}`);\n",
       "          s.src = paths[lib];\n",
       "        });\n",
       "    }\n",
       "\n",
       "    function showError(err) {\n",
       "      outputDiv.innerHTML = `<div class=\"error\" style=\"color:red;\">${err}</div>`;\n",
       "      throw err;\n",
       "    }\n",
       "\n",
       "    function displayChart(vegaEmbed) {\n",
       "      vegaEmbed(outputDiv, spec, embedOpt)\n",
       "        .catch(err => showError(`Javascript Error: ${err.message}<br>This usually means there's a typo in your chart specification. See the javascript console for the full traceback.`));\n",
       "    }\n",
       "\n",
       "    if(typeof define === \"function\" && define.amd) {\n",
       "      requirejs.config({paths});\n",
       "      require([\"vega-embed\"], displayChart, err => showError(`Error loading script: ${err.message}`));\n",
       "    } else {\n",
       "      maybeLoadScript(\"vega\", \"5\")\n",
       "        .then(() => maybeLoadScript(\"vega-lite\", \"4.17.0\"))\n",
       "        .then(() => maybeLoadScript(\"vega-embed\", \"6\"))\n",
       "        .catch(showError)\n",
       "        .then(() => displayChart(vegaEmbed));\n",
       "    }\n",
       "  })({\"config\": {\"view\": {\"continuousWidth\": 400, \"continuousHeight\": 300}}, \"data\": {\"url\": \"HA_2018.geojson\", \"format\": {\"property\": \"features\", \"type\": \"json\"}}, \"mark\": {\"type\": \"geoshape\", \"fill\": \"blue\", \"opacity\": 0.5, \"stroke\": \"black\"}, \"encoding\": {\"tooltip\": {\"field\": \"datum['properties']['HA_Name']\"}}, \"projection\": {\"reflectY\": true, \"type\": \"identity\"}, \"$schema\": \"https://vega.github.io/schema/vega-lite/v4.17.0.json\"}, {\"mode\": \"vega-lite\"});\n",
       "</script>"
      ],
      "text/plain": [
       "alt.Chart(...)"
      ]
     },
     "execution_count": 1,
     "metadata": {},
     "output_type": "execute_result"
    }
   ],
   "source": [
    "import json\n",
    "import pandas as pd\n",
    "import altair as alt\n",
    "\n",
    "map_data = alt.Data(url='HA_2018.geojson', format=alt.DataFormat(property='features',type='json'))\n",
    "\n",
    "alt.Chart(map_data).mark_geoshape(stroke = \"black\", opacity = 0.5, fill = \"blue\"\n",
    "    ).encode(\n",
    "        tooltip = alt.Tooltip(alt.datum['properties']['HA_Name'])\n",
    "    ).project(\n",
    "        type='identity', reflectY=True\n",
    "    )\n"
   ]
  },
  {
   "cell_type": "code",
   "execution_count": null,
   "id": "cfa552c5-1c57-4310-9f4a-0cb54b1cd9fc",
   "metadata": {},
   "outputs": [],
   "source": []
  },
  {
   "cell_type": "code",
   "execution_count": null,
   "id": "f2dad641-34b5-4d64-99ab-59548cce06b4",
   "metadata": {},
   "outputs": [],
   "source": []
  }
 ],
 "metadata": {
  "kernelspec": {
   "display_name": "Python 3 (ipykernel)",
   "language": "python",
   "name": "python3"
  },
  "language_info": {
   "codemirror_mode": {
    "name": "ipython",
    "version": 3
   },
   "file_extension": ".py",
   "mimetype": "text/x-python",
   "name": "python",
   "nbconvert_exporter": "python",
   "pygments_lexer": "ipython3",
   "version": "3.9.5"
  }
 },
 "nbformat": 4,
 "nbformat_minor": 5
}
