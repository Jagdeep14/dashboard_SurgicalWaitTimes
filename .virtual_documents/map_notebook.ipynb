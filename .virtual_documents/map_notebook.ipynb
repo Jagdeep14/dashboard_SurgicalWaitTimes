import json
import pandas as pd
import altair as alt

map_data = alt.Data(url='data\HA_2018.geojson', format=alt.DataFormat(property='features',type='json'))

# chart object
x = "Interior"

alt.Chart(map_data).mark_geoshape(stroke = "black"
).encode(
    color=alt.Color(alt.datum['properties']['HA_Name']),
    opacity=alt.condition(alt.datum['properties']['HA_Name'] == x, alt.value(1), alt.value(0.3)),
    tooltip = alt.Tooltip(alt.datum['properties']['HA_Name'])
).project(
    type='identity', reflectY=True
)


temp = json.load(open('HA_2018.geojson', 'r'))
temp['features'][0]['properties']['HA_Name']
#temp['features']



import json
import pandas as pd
import altair as alt

map_data = alt.Data(url='Data\HA_2018.geojson', format=alt.DataFormat(property='features',type='json'))


def plot_map(authority = 'Interior'):
    if authority == "Provincial":
        plot1 = alt.Chart(map_data).mark_geoshape(stroke = "black", opacity = 0.5, fill = "blue"
        ).encode(
            tooltip = "properties.HA_Name:N"
        ).project(
            type='identity', reflectY=True
        )
        return plot1
    else:
        plot2 = alt.Chart(map_data).mark_geoshape(stroke = "black"
        ).encode(
            color= alt.Color("properties.HA_Name:N", legend = None),
            opacity=alt.condition(alt.datum['properties']['HA_Name'] == authority, alt.value(1), alt.value(0.3)),
            tooltip = "properties.HA_Name:N"
        ).project(
            type='identity', reflectY=True
        )
        return plot2


plot_map(authority = 'Interior')


import json
import pandas as pd
import altair as alt

map_data = alt.Data(url='HA_2018.geojson', format=alt.DataFormat(property='features',type='json'))

alt.Chart(map_data).mark_geoshape(stroke = "black", opacity = 0.5, fill = "blue"
    ).encode(
        tooltip = alt.Tooltip(alt.datum['properties']['HA_Name'])
    ).project(
        type='identity', reflectY=True
    )







